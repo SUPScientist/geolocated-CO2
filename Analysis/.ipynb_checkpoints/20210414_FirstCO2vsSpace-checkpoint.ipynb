{
 "cells": [
  {
   "cell_type": "code",
   "execution_count": 1,
   "metadata": {},
   "outputs": [],
   "source": [
    "import pandas as pd\n",
    "import numpy as np\n",
    "import os\n",
    "import matplotlib.pyplot as plt"
   ]
  },
  {
   "cell_type": "markdown",
   "metadata": {},
   "source": [
    "### Read in data, rename columns, simple pre-processing"
   ]
  },
  {
   "cell_type": "code",
   "execution_count": 14,
   "metadata": {},
   "outputs": [
    {
     "name": "stderr",
     "output_type": "stream",
     "text": [
      "<ipython-input-14-f42cbab9a633>:12: SettingWithCopyWarning: \n",
      "A value is trying to be set on a copy of a slice from a DataFrame\n",
      "\n",
      "See the caveats in the documentation: https://pandas.pydata.org/pandas-docs/stable/user_guide/indexing.html#returning-a-view-versus-a-copy\n",
      "  df['lat'][south] *= -1\n",
      "<ipython-input-14-f42cbab9a633>:16: SettingWithCopyWarning: \n",
      "A value is trying to be set on a copy of a slice from a DataFrame\n",
      "\n",
      "See the caveats in the documentation: https://pandas.pydata.org/pandas-docs/stable/user_guide/indexing.html#returning-a-view-versus-a-copy\n",
      "  df['lon'][west] *= -1\n"
     ]
    },
    {
     "data": {
      "text/html": [
       "<div>\n",
       "<style scoped>\n",
       "    .dataframe tbody tr th:only-of-type {\n",
       "        vertical-align: middle;\n",
       "    }\n",
       "\n",
       "    .dataframe tbody tr th {\n",
       "        vertical-align: top;\n",
       "    }\n",
       "\n",
       "    .dataframe thead th {\n",
       "        text-align: right;\n",
       "    }\n",
       "</style>\n",
       "<table border=\"1\" class=\"dataframe\">\n",
       "  <thead>\n",
       "    <tr style=\"text-align: right;\">\n",
       "      <th></th>\n",
       "      <th>time</th>\n",
       "      <th>elapsed time (sec)</th>\n",
       "      <th>lat</th>\n",
       "      <th>N or S</th>\n",
       "      <th>lon</th>\n",
       "      <th>E or W</th>\n",
       "      <th>CO2 (ppm)</th>\n",
       "    </tr>\n",
       "  </thead>\n",
       "  <tbody>\n",
       "    <tr>\n",
       "      <th>0</th>\n",
       "      <td>2021-04-14 16:25:24</td>\n",
       "      <td>5</td>\n",
       "      <td>34.085203</td>\n",
       "      <td>N</td>\n",
       "      <td>-77.521567</td>\n",
       "      <td>W</td>\n",
       "      <td>509</td>\n",
       "    </tr>\n",
       "    <tr>\n",
       "      <th>1</th>\n",
       "      <td>2021-04-14 16:25:26</td>\n",
       "      <td>7</td>\n",
       "      <td>34.085222</td>\n",
       "      <td>N</td>\n",
       "      <td>-77.521523</td>\n",
       "      <td>W</td>\n",
       "      <td>508</td>\n",
       "    </tr>\n",
       "    <tr>\n",
       "      <th>2</th>\n",
       "      <td>2021-04-14 16:25:28</td>\n",
       "      <td>9</td>\n",
       "      <td>34.085242</td>\n",
       "      <td>N</td>\n",
       "      <td>-77.521509</td>\n",
       "      <td>W</td>\n",
       "      <td>508</td>\n",
       "    </tr>\n",
       "    <tr>\n",
       "      <th>3</th>\n",
       "      <td>2021-04-14 16:25:30</td>\n",
       "      <td>11</td>\n",
       "      <td>34.085256</td>\n",
       "      <td>N</td>\n",
       "      <td>-77.521494</td>\n",
       "      <td>W</td>\n",
       "      <td>508</td>\n",
       "    </tr>\n",
       "    <tr>\n",
       "      <th>4</th>\n",
       "      <td>2021-04-14 16:25:32</td>\n",
       "      <td>13</td>\n",
       "      <td>34.085313</td>\n",
       "      <td>N</td>\n",
       "      <td>-77.521436</td>\n",
       "      <td>W</td>\n",
       "      <td>508</td>\n",
       "    </tr>\n",
       "  </tbody>\n",
       "</table>\n",
       "</div>"
      ],
      "text/plain": [
       "                 time  elapsed time (sec)        lat N or S        lon E or W  \\\n",
       "0 2021-04-14 16:25:24                   5  34.085203      N -77.521567      W   \n",
       "1 2021-04-14 16:25:26                   7  34.085222      N -77.521523      W   \n",
       "2 2021-04-14 16:25:28                   9  34.085242      N -77.521509      W   \n",
       "3 2021-04-14 16:25:30                  11  34.085256      N -77.521494      W   \n",
       "4 2021-04-14 16:25:32                  13  34.085313      N -77.521436      W   \n",
       "\n",
       "   CO2 (ppm)  \n",
       "0        509  \n",
       "1        508  \n",
       "2        508  \n",
       "3        508  \n",
       "4        508  "
      ]
     },
     "execution_count": 14,
     "metadata": {},
     "output_type": "execute_result"
    }
   ],
   "source": [
    "filename = '21041400.CSV'\n",
    "filepath = os.path.join('Data', filename)\n",
    "df = pd.read_csv(filepath, parse_dates = [[0, 1]], header = None)\n",
    "df.columns = ['time', 'elapsed time (sec)', 'lat', 'N or S', 'lon', 'E or W', 'CO2 (ppm)']\n",
    "\n",
    "# GPS spits out lat*100, lon*100, so divide by 100 for correct value\n",
    "df['lat'] /= 100\n",
    "df['lon'] /= 100\n",
    "\n",
    "# South should be negative\n",
    "south = df['N or S'] == 'S'\n",
    "df['lat'][south] *= -1 \n",
    "\n",
    "# West should be negative\n",
    "west = df['E or W'] == 'W'\n",
    "df['lon'][west] *= -1 \n",
    "\n",
    "# Take a look\n",
    "df.head()"
   ]
  },
  {
   "cell_type": "code",
   "execution_count": 18,
   "metadata": {},
   "outputs": [
    {
     "data": {
      "text/plain": [
       "<matplotlib.colorbar.Colorbar at 0x7fb702385490>"
      ]
     },
     "execution_count": 18,
     "metadata": {},
     "output_type": "execute_result"
    },
    {
     "data": {
      "image/png": "[encoded data removed]",
      "text/plain": [
       "<Figure size 720x720 with 2 Axes>"
      ]
     },
     "metadata": {
      "needs_background": "light"
     },
     "output_type": "display_data"
    }
   ],
   "source": [
    "fig, axs = plt.subplots(figsize = (10, 10))\n",
    "m = axs.scatter(df['lon'], df['lat'], c = df['CO2 (ppm)'])\n",
    "fig.colorbar(m)"
   ]
  },
  {
   "cell_type": "code",
   "execution_count": null,
   "metadata": {},
   "outputs": [],
   "source": []
  }
 ],
 "metadata": {
  "kernelspec": {
   "display_name": "Python 3",
   "language": "python",
   "name": "python3"
  },
  "language_info": {
   "codemirror_mode": {
    "name": "ipython",
    "version": 3
   },
   "file_extension": ".py",
   "mimetype": "text/x-python",
   "name": "python",
   "nbconvert_exporter": "python",
   "pygments_lexer": "ipython3",
   "version": "3.8.5"
  }
 },
 "nbformat": 4,
 "nbformat_minor": 4
}
